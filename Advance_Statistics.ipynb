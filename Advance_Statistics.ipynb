{
 "cells": [
  {
   "cell_type": "markdown",
   "metadata": {},
   "source": [
    "## Question-1. Explain the properties of the F-distribution. "
   ]
  },
  {
   "cell_type": "markdown",
   "metadata": {},
   "source": [
    "The F-distribution is a continuous probability distribution that arises frequently in statistics, particularly in the context of variance analysis and hypothesis testing."
   ]
  },
  {
   "cell_type": "markdown",
   "metadata": {},
   "source": [
    "### Shape:-\n",
    "The F-distribution is right-skewed it means that it has a longer tail on the right side. As the degrees of freedom increase, the distribution becomes more symmetric."
   ]
  },
  {
   "cell_type": "markdown",
   "metadata": {},
   "source": [
    "### Degrees of Freedom: \n",
    "The F-distribution is characterized by two sets of degrees of freedom.\n",
    "* (d_1): The degrees of freedom associated with the numerator.\n",
    "* (d_2): The degrees of freedom associated with the denominator . The distribution is denoted as (F(d_1, d_2))."
   ]
  },
  {
   "cell_type": "markdown",
   "metadata": {},
   "source": [
    "### Range: \n",
    "The range of the F-distribution is from 0 to infinity. It cannot take negative values."
   ]
  },
  {
   "cell_type": "markdown",
   "metadata": {},
   "source": [
    "### Mean: \n",
    "The mean of the F-distribution is\n",
    "\n",
    "$$  \\text{Mean} = \\frac{d_1}{d_1 - 2} \\quad \\text{for } d_1 > 2 \\quad If (d_1 \\leq 2) $$\n",
    "\n",
    "### Variance: \n",
    "The variance of the F-distribution is \n",
    "$$ \\text{Variance} = \\frac{2(d_1^2)(d_2 + 1)}{d_2(d_1 - 2)^2(d_1 - 4)} \\quad \\text{for } d_1 > 4  \\quad If (d_1 \\leq 4)$$\n",
    "### Mode: \n",
    "The mode of the F-distribution the value at which the distribution peaks is \n",
    "$$ \\text{Mode} = \\frac{d_1 - 2}{d_1} \\quad \\text{for } d_1 > 2 \\quad If (d_1 \\leq 2)"
   ]
  },
  {
   "cell_type": "markdown",
   "metadata": {},
   "source": [
    "### Applications: \n",
    "The F-distribution is primarily used in analysis of variance  regression analysis and in the testing of hypotheses about the equality of variances from different populations."
   ]
  },
  {
   "cell_type": "markdown",
   "metadata": {},
   "source": [
    "### Transformation: \n",
    "If (X) and (Y) are independent squared random variables with (d_1) and (d_2) degrees of freedom respectively, then the random variable \n",
    "$$(F = \\frac{(X/d_1)}{(Y/d_2)})$$\n",
    "follows an F-distribution with parameters (d_1) and (d_2)"
   ]
  },
  {
   "cell_type": "markdown",
   "metadata": {},
   "source": [
    "## Question-2. In which types of statistical tests is the F-distribution used, and why is it appropriate for these tests?"
   ]
  },
  {
   "cell_type": "markdown",
   "metadata": {},
   "source": [
    "The F-distribution is primarily used in many types of statistical tests. particularly those that involve comparing variances or assessing the overall significance of models."
   ]
  },
  {
   "cell_type": "markdown",
   "metadata": {},
   "source": [
    "### 1. Analysis of Variance\n",
    "#### Purpose: \n",
    "Analysis of Variance is used to compare the means of three or more groups to determine if at least one group mean is significantly different from the others.\n",
    "#### Why F-distribution?: \n",
    "Analysis of Variance tests the null hypothesis that all group means are equal by comparing the variance between groups to the variance within groups.\n",
    "### 2. Regression Analysis\n",
    "#### Purpose: \n",
    "In multiple regression analysis the F-test is used to access the overall significance of the regression model.\n",
    "#### Why F-distribution?: \n",
    "The F-statistic compares the models explained variance to the unexplained variance ."
   ]
  },
  {
   "cell_type": "markdown",
   "metadata": {},
   "source": [
    "### 3. Comparing Two Variances\n",
    "#### Purpose: \n",
    "The F-test can be used to compare the variances of two independent samples to determine if they are significantly different.\n",
    "#### Why F-distribution?: \n",
    "The ratio of two independent squared variables follows an F-distribution. This property allows for testing the null hypothesis that the two population variances are equal.\n",
    "### 4. Nested Models\n",
    "#### Purpose: \n",
    "In model selection the F-test can be used to compare a full model with a nested model.\n",
    "#### Why F-distribution?: \n",
    "The F-statistic accesses whether the additional parameters in the full model significantly improve the fit compared to the nested model.\n",
    "### 5. General Linear Models\n",
    "#### Purpose: \n",
    "The F-test is used in the context of general linear models to test hypotheses about the coefficients of the model.\n",
    "#### Why F-distribution?: \n",
    "Similar to regression analysis the F-statistic is derived from the ratio of explained variance to unexplained variance, which follows an F-distribution."
   ]
  },
  {
   "cell_type": "markdown",
   "metadata": {},
   "source": [
    "## Question-3. What are the key assumptions required for conducting an F-test to compare the variances of two populations?"
   ]
  },
  {
   "cell_type": "markdown",
   "metadata": {},
   "source": [
    "When conducting an F-test to compare the variances of two populations, several key assumptions must be met to ensure the validity of the test results."
   ]
  },
  {
   "cell_type": "markdown",
   "metadata": {},
   "source": [
    "### 1. Independence of Samples\n",
    "The two samples being compared must be independent of each other. This means that the selection of one sample does not influence the selection of the other sample. Independence is essential for the validity of the F-test.\n",
    "### 2. Normality\n",
    "The populations from which the samples are drawn should be normally distributed. While the F-test is somewhat robust to violations of normality, especially with larger sample sizes, significant deviations from normality can affect the accuracy of the test results.\n",
    "### 3. Random Sampling\n",
    "The samples should be drawn randomly from their respective populations. This ensures that the samples are representative of the populations and helps to generalize the results.\n",
    "### 4. Continuous Data\n",
    "The data being analyzed should be continuous. The F-test is not appropriate for categorical data."
   ]
  },
  {
   "cell_type": "markdown",
   "metadata": {},
   "source": [
    "## Question-4. What is the purpose of ANOVA, and how does it differ from a t-test? "
   ]
  },
  {
   "cell_type": "markdown",
   "metadata": {},
   "source": [
    "### Purpose of ANOVA:-\n",
    "ANOVA stands for Analysis of Variance. It is a statistical method used to compare the means of three or more groups to determine if at least one group mean is significantly different from the others."
   ]
  },
  {
   "cell_type": "markdown",
   "metadata": {},
   "source": [
    "#### Testing Hypotheses: \n",
    "ANOVA tests the null hypothesis that all group means are equal against the alternative hypothesis that at least one group mean is different.\n",
    "#### Assessing Variability: \n",
    "ANOVA evaluates the variability within groups compared to the variability between groups. It helps to determine whether the observed differences in sample means are greater than what could be expected by chance alone.\n",
    "\n",
    "#### Multiple Comparisons: \n",
    "ANOVA allows for the simultaneous comparison of multiple groups which is more efficient than conducting multiple t-tests. "
   ]
  },
  {
   "cell_type": "markdown",
   "metadata": {},
   "source": [
    "### How ANOVA Differs from a t-test:-\n",
    "While both ANOVA and t-tests are used to compare means\n",
    "#### Number of Groups:\n",
    "##### t-test:-\n",
    "Typically used to compare the means of two groups or the means of one group against a known value.\n",
    "##### ANOVA:- \n",
    "Used to compare the means of three or more groups simultaneously.\n",
    "\n",
    "#### Hypothesis Testing:\n",
    "##### t-test:- \n",
    "Tests the null hypothesis that the means of two groups are equal.\n",
    "##### ANOVA:- \n",
    "Tests the null hypothesis that the means of all groups are equal. If the ANOVA indicates significant differences.\n",
    "\n",
    "#### Type of Data:\n",
    "##### t-test:- \n",
    "Generally used for continuous data and assumes normality and homogeneity of variances for the two groups being compared.\n",
    "##### ANOVA:-\n",
    "Also used for continuous data but can handle more complex designs such as factorial ANOVA which examines the effects of multiple independent variables.\n",
    "\n",
    "#### Error Rate:\n",
    "##### t-test:- \n",
    "Conducting multiple t-tests increases the risk of Type I error.\n",
    "##### ANOVA:-\n",
    "Controls the overall Type I error rate when comparing multiple groups by testing all groups simultaneously.\n",
    "\n",
    "#### Output:\n",
    "##### t-test:- \n",
    "Provides a t-statistic and a p-value to determine significance.\n",
    "##### ANOVA:-\n",
    "Provides an F-statistic and a p-value which indicates whether there are significant differences among the group means."
   ]
  },
  {
   "cell_type": "markdown",
   "metadata": {},
   "source": [
    "## Question-5. Explain when and why you would use a one-way ANOVA instead of multiple t-tests when comparing more than two groups."
   ]
  },
  {
   "cell_type": "markdown",
   "metadata": {},
   "source": [
    "Using a one way ANOVA instead of multiple t-tests when comparing more than two groups is primarily related to statistical validity and efficiency."
   ]
  },
  {
   "cell_type": "markdown",
   "metadata": {},
   "source": [
    "### When to Use One-Way ANOVA:-\n",
    "We would use a one way ANOVA when we have:\n",
    "\n",
    "#### Three or more groups: \n",
    "The primary condition for using one way ANOVA is that we are comparing the means of three or more independent groups.\n",
    "#### One independent variable: \n",
    "The analysis is focused on one categorical independent variable with multiple levels and one continuous dependent variable.\n",
    "#### Interest in overall differences: \n",
    "You want to determine if there are any statistically significant differences among the group means without specifying which groups differ at the outset."
   ]
  },
  {
   "cell_type": "markdown",
   "metadata": {},
   "source": [
    "### Why Use One Way ANOVA Instead of Multiple t-tests\n",
    "#### Control of Type I Error Rate:\n",
    "When conducting multiple t-tests the probability of committing a Type I error increases with each additional test. \n",
    "#### Efficiency:\n",
    "One way ANOVA is more efficient than conducting multiple t-tests because it provides F-statistic that summarizes the comparison of all group mean.\n",
    "#### Overall Comparison:\n",
    "One way ANOVA access whether there are any significant differences among the group means as a whole.\n",
    "#### Assumptions:\n",
    "One way ANOVA is designed to handle the assumptions of normality and homogeneity of variances across multiple groups in a single analysis.\n",
    "#### Statistical Power:\n",
    "Using one way ANOVA can increase the statistical power of the analysis when comparing multiple groups. This is because it evaluates the variance between groups relative to the variance within groups in a single test which can lead to more reliable conclusions."
   ]
  },
  {
   "cell_type": "markdown",
   "metadata": {},
   "source": [
    "## Question-6. Explain how variance is partitioned in ANOVA into between-group variance and within-group variance. How does this partitioning contribute to the calculation of the F-statistic?"
   ]
  },
  {
   "cell_type": "markdown",
   "metadata": {},
   "source": [
    "In ANOVA variance is partitioned into two main components between-group variance and within-group variance. This partitioning is fundamental to understanding how ANOVA works and contributes to the calculation of the F-statistic."
   ]
  },
  {
   "cell_type": "markdown",
   "metadata": {},
   "source": [
    "### Between-Group Variance\n",
    "It measures the variability in the group means relative to the overall mean of all groups. It reflects how much the group means differ from the overall mean.\n",
    "#### Calculation:\n",
    "To calculate between-group variance, you first determine the overall mean of all observations and the mean of each group.\n",
    "The formula for between-group variance is:\n",
    "$$ Var_{between} = \\sum_{i=1}^{k} n_i (\\bar{X}_i - \\bar{X})^2 $$\n",
    "\n",
    "Where:\n",
    "* (k) = number of groups\n",
    "* (n_i) = number of observations in group (i)\n",
    "* $$(\\bar{X}_i) \\quad mean \\quad of \\quad group \\quad (i)$$\n",
    "* $$(\\bar{X}) \\quad mean \\quad of \\quad all \\quad observations$$ \n"
   ]
  },
  {
   "cell_type": "markdown",
   "metadata": {},
   "source": [
    "### Within-Group Variance\n",
    "It measures the variability of observations within each group. It reflects how much individual observations in each group differ from their respective group mean.\n",
    "#### Calculation:\n",
    "To calculate within-group variance we sum the squared differences between each observation and its group mean for all groups\n",
    "$$ Var_{within} = \\sum_{i=1}^{k} \\sum_{j=1}^{n_i} (X_{ij} - \\bar{X}_i)^2 $$\n",
    "\n",
    "Where:\n",
    "* $$(X_{ij})\\quad = \\quad individual \\quad observation \\quad in \\quad group \\quad (i)$$\n",
    "* $$(\\bar{X}_i) \\quad = \\quad mean \\quad of \\quad group \\quad (i)$$"
   ]
  },
  {
   "cell_type": "markdown",
   "metadata": {},
   "source": [
    "### Partitioning of Variance\n",
    "The total variance in the data can be expressed as the sum of the between-group variance and the within-group variance:\n",
    "\n",
    "$$ Var_{total} = Var_{between} + Var_{within} $$\n",
    "\n",
    "### Calculation of the F-statistic\n",
    "The F-statistic is calculated using the ratio of the mean square between groups to the mean square within groups:\n",
    "\n",
    "$$ F = \\frac{MS_{between}}{MS_{within}} $$\n",
    "\n",
    "Where:\n",
    "\n",
    "* $$(MS_{between} = \\frac{Var_{between}}{df_{between}})$$\n",
    "* $$(MS_{within} = \\frac{Var_{within}}{df_{within}})$$\n",
    "* $$(df_{between} = k - 1) \\quad degrees \\quad of \\quad freedom \\quad for \\quad between \\quad groups                                 $$\n",
    "* $$(df_{within} = N - k) \\quad degrees\\quad  of\\quad freedom\\quad for\\quad within\\quad groups\\quad where\\quad (N) \\quad is \\quad the total \\quad number\\quad of \\quad observations$$"
   ]
  },
  {
   "cell_type": "markdown",
   "metadata": {},
   "source": [
    "## Question-7. Compare the classical (frequentist) approach to ANOVA with the Bayesian approach. What are the key differences in terms of how they handle uncertainty, parameter estimation, and hypothesis testing?"
   ]
  },
  {
   "cell_type": "markdown",
   "metadata": {},
   "source": [
    "The classical approach to ANOVA and the Bayesian approach represent two distinct paradigms in statistical inference. Each has its own methodology for handling uncertainty, parameter estimation, and hypothesis testing.\n",
    "### 1. Handling Uncertainty\n",
    "#### Frequentist Approach:\n",
    "##### Probability Interpretation: \n",
    "In the frequentist framework, probability is interpreted as the long-run frequency of events.\n",
    "##### Confidence Intervals: \n",
    "Uncertainty is quantified using confidence intervals which provide a range of values that with a certain level of confidence are believed to contain the true parameter value.\n",
    "#### Bayesian Approach:\n",
    "##### Probability Interpretation: \n",
    "In Bayesian statistics, probability is interpreted as a degree of belief or certainty about an event. \n",
    "##### Credible Intervals: \n",
    "Bayesian methods provide credible intervals, which directly represent the probability that a parameter lies within a certain range given the observed data. \n",
    "### 2. Parameter Estimation\n",
    "#### Frequentist Approach:\n",
    "##### Point Estimates: The frequentist approach typically provides point estimates and uses methods like maximum likelihood estimation to estimate parameters.\n",
    "##### No Prior Information: \n",
    "Frequentist methods do not incorporate prior information or beliefs about parameters. The analysis is based solely on the data at hand.\n",
    "#### Bayesian Approach:\n",
    "##### Posterior Distribution: \n",
    "Bayesian methods provide a full posterior distribution for parameters, which combines prior beliefs with the likelihood of the observed data. \n",
    "##### Incorporation of Prior Information: \n",
    "Bayesian analysis allows the incorporation of prior information or beliefs about parameters through the use of prior distributions. \n",
    "### 3. Hypothesis Testing\n",
    "#### Frequentist Approach:\n",
    "##### Null Hypothesis Significance Testing (NHST): \n",
    "The frequentist approach often relies on NHST, where a null hypothesis is tested against an alternative hypothesis. \n",
    "##### Fixed Significance Level: Decisions are made based on a fixed significance level. If the p-value is less than α, the null hypothesis is rejected.\n",
    "#### Bayesian Approach:\n",
    "##### Bayes Factor: \n",
    "Bayesian hypothesis testing often uses Bayes factors which quantify the evidence for one hypothesis relative to another. \n",
    "##### Continuous Evidence: \n",
    "Bayesian methods provide a more continuous measure of evidence, allowing for a more nuanced interpretation of results. "
   ]
  },
  {
   "cell_type": "markdown",
   "metadata": {},
   "source": [
    "## Question-8. Question: You have two sets of data representing the incomes of two different professions:\n",
    "## V Profession A: [48, 52, 55, 60, 62]\n",
    "## V Profession B: [45, 50, 55, 52, 47] Perform an F-test to determine if the variances of the two professions incomes are equal. What are your conclusions based on the F-test?\n",
    "## Task: Use Python to calculate the F-statistic and p-value for the given data."
   ]
  },
  {
   "cell_type": "markdown",
   "metadata": {},
   "source": [
    "To perform an F-test to determine if the variances of the incomes of two different professions are equal, we can use Python."
   ]
  },
  {
   "cell_type": "code",
   "execution_count": 4,
   "metadata": {},
   "outputs": [],
   "source": [
    "import numpy as np\n",
    "from scipy import stats\n",
    "\n",
    "profession_A = np.array([48, 52, 55, 60, 62])\n",
    "profession_B = np.array([45, 50, 55, 52, 47])"
   ]
  },
  {
   "cell_type": "code",
   "execution_count": 5,
   "metadata": {},
   "outputs": [],
   "source": [
    "var_of_A = np.var(profession_A, ddof=1)\n",
    "var_of_B = np.var(profession_B, ddof=1)"
   ]
  },
  {
   "cell_type": "code",
   "execution_count": 6,
   "metadata": {},
   "outputs": [],
   "source": [
    "\n",
    "f_statistic = var_of_A / var_of_A"
   ]
  },
  {
   "cell_type": "code",
   "execution_count": 7,
   "metadata": {},
   "outputs": [],
   "source": [
    "df_a = len(profession_A) - 1 \n",
    "df_b = len(profession_B) - 1 \n",
    "p_value = 1 - stats.f.cdf(f_statistic, df_a, df_b)"
   ]
  },
  {
   "cell_type": "code",
   "execution_count": 9,
   "metadata": {},
   "outputs": [
    {
     "name": "stdout",
     "output_type": "stream",
     "text": [
      "Variance of Profession A = 32.8\n"
     ]
    }
   ],
   "source": [
    "#Variance of Profession A \n",
    "print(f\"Variance of Profession A = {var_of_A}\")"
   ]
  },
  {
   "cell_type": "code",
   "execution_count": 11,
   "metadata": {},
   "outputs": [
    {
     "name": "stdout",
     "output_type": "stream",
     "text": [
      "Variance of Profession B = 15.7\n"
     ]
    }
   ],
   "source": [
    "#Variance of Profession B \n",
    "print(f\"Variance of Profession B = {var_of_B}\")"
   ]
  },
  {
   "cell_type": "code",
   "execution_count": 13,
   "metadata": {},
   "outputs": [
    {
     "name": "stdout",
     "output_type": "stream",
     "text": [
      "F-statistic = 1.0\n"
     ]
    }
   ],
   "source": [
    "#F-statistic \n",
    "print(f\"F-statistic = {f_statistic}\")"
   ]
  },
  {
   "cell_type": "code",
   "execution_count": 15,
   "metadata": {},
   "outputs": [
    {
     "name": "stdout",
     "output_type": "stream",
     "text": [
      "p-value = 0.5\n"
     ]
    }
   ],
   "source": [
    "#p-value\n",
    "print(f\"p-value = {p_value}\")"
   ]
  },
  {
   "cell_type": "markdown",
   "metadata": {},
   "source": [
    "## Question-9.Conduct a one-way ANOVA to test whether there are any statistically significant differences in average heights between three different regions with the following data:\n",
    "## Region A: [160, 162, 165, 158, 164]\n",
    "## Region B: [172, 175, 170, 168, 174]\n",
    "## Region C: [180, 182, 179, 185, 183]\n",
    "## Task: Write Python code to perform the one-way ANOVA and interpret the results."
   ]
  },
  {
   "cell_type": "markdown",
   "metadata": {},
   "source": [
    "To conduct a one-way ANOVA to test whether there are statistically significant differences in average heights between three different regions we can use Python's scipy.stats library."
   ]
  },
  {
   "cell_type": "code",
   "execution_count": 16,
   "metadata": {},
   "outputs": [],
   "source": [
    "region_A = np.array([160, 162, 165, 158, 164])\n",
    "region_B = np.array([172, 175, 170, 168, 174])\n",
    "region_C = np.array([180, 182, 179, 185, 183])"
   ]
  },
  {
   "cell_type": "code",
   "execution_count": 17,
   "metadata": {},
   "outputs": [],
   "source": [
    "f_statistic, p_value = stats.f_oneway(region_A, region_B, region_C)"
   ]
  },
  {
   "cell_type": "code",
   "execution_count": null,
   "metadata": {},
   "outputs": [
    {
     "name": "stdout",
     "output_type": "stream",
     "text": [
      "F-statistic: 67.87330316742101\n",
      "p-value: 2.8706641879370266e-07\n"
     ]
    }
   ],
   "source": [
    "print(f\"F-statistic = {f_statistic}\")\n",
    "print(f\"p-value = {p_value}\")"
   ]
  },
  {
   "cell_type": "code",
   "execution_count": 22,
   "metadata": {},
   "outputs": [
    {
     "name": "stdout",
     "output_type": "stream",
     "text": [
      "There are significant differences in average heights between the regions.\n"
     ]
    }
   ],
   "source": [
    "gama = 0.05 # here gama is a significance level\n",
    "if p_value < gama:\n",
    "    print(\"There are significant differences in average heights between the regions.\")\n",
    "else:\n",
    "    print(\"There are no significant differences in average heights between the regions.\")"
   ]
  },
  {
   "cell_type": "code",
   "execution_count": null,
   "metadata": {},
   "outputs": [],
   "source": []
  }
 ],
 "metadata": {
  "kernelspec": {
   "display_name": "venv",
   "language": "python",
   "name": "python3"
  },
  "language_info": {
   "codemirror_mode": {
    "name": "ipython",
    "version": 3
   },
   "file_extension": ".py",
   "mimetype": "text/x-python",
   "name": "python",
   "nbconvert_exporter": "python",
   "pygments_lexer": "ipython3",
   "version": "3.12.4"
  }
 },
 "nbformat": 4,
 "nbformat_minor": 2
}
